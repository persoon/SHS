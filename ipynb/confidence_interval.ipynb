{
 "cells": [
  {
   "cell_type": "code",
   "execution_count": 1,
   "metadata": {
    "collapsed": false
   },
   "outputs": [
    {
     "name": "stdout",
     "output_type": "stream",
     "text": [
      "C:\\Users\\wklue\\Desktop\\SHS\n"
     ]
    },
    {
     "name": "stdout",
     "output_type": "stream",
     "text": [
      "0 88\n------------------------------------------------\nPricing Schedule:\n[4, 4, 6, 6, 8, 8, 10, 10, 12, 12, 14, 14, 14, 14, 20, 12, 10, 16, 8, 10, 6, 10, 4, 18]\n------------------------------------------------\nRules:\nTrue 1\tGE_WSM2420D3WW\tregular_w\tNone\tbefore\t0\t88\n------------------------------------------------\n"
     ]
    },
    {
     "name": "stdout",
     "output_type": "stream",
     "text": [
      "________________________________________\nStep    |    Value    |        t        |\n0.  |         231.59  |   [ 128.]\n________________________________________|\n"
     ]
    },
    {
     "name": "stderr",
     "output_type": "stream",
     "text": [
      "C:\\Users\\wklue\\AppData\\Local\\Programs\\Python\\Python35\\lib\\site-packages\\sklearn\\gaussian_process\\gpr.py:457: UserWarning: fmin_l_bfgs_b terminated abnormally with the  state: {'grad': array([-0.00554463]), 'task': b'ABNORMAL_TERMINATION_IN_LNSRCH', 'warnflag': 2, 'nit': 5, 'funcalls': 53}\n  \" state: %s\" % convergence_dict)\n"
     ]
    },
    {
     "name": "stdout",
     "output_type": "stream",
     "text": [
      "________________________________________\nStep    |    Value    |        t        |\n1.  |         236.82  |   [ 125.82924493]\n________________________________________|\n"
     ]
    },
    {
     "name": "stdout",
     "output_type": "stream",
     "text": [
      "________________________________________\nStep    |    Value    |        t        |\n2.  |         242.05  |   [ 122.66833026]\n________________________________________|\n"
     ]
    },
    {
     "name": "stdout",
     "output_type": "stream",
     "text": [
      "________________________________________\nStep    |    Value    |        t        |\n3.  |         242.05  |   [ 122.]\n________________________________________|\n"
     ]
    },
    {
     "name": "stdout",
     "output_type": "stream",
     "text": [
      "________________________________________\nStep    |    Value    |        t        |\n4.  |         243.79  |   [ 121.]\n________________________________________|\n"
     ]
    },
    {
     "name": "stdout",
     "output_type": "stream",
     "text": [
      "----------------------------\n"
     ]
    },
    {
     "data": {
      "image/png": "[encoded data removed]",
      "text/plain": [
       "<matplotlib.figure.Figure at 0x1c74875d320>"
      ]
     },
     "metadata": {},
     "output_type": "display_data"
    },
    {
     "name": "stdout",
     "output_type": "stream",
     "text": [
      "x: 88 mean: [ 246.9747289] stdv: [ 0.06567934]\nx: 89 mean: [ 246.97473037] stdv: [ 0.06567876]\nx: 90 mean: [ 246.97470303] stdv: [ 0.06568938]\nx: 91 mean: [ 246.97476792] stdv: [ 0.06566414]\nx: 92 mean: [ 246.97454547] stdv: [ 0.06574985]\nx: 93 mean: [ 246.97470208] stdv: [ 0.06568974]\nx: 94 mean: [ 246.97474142] stdv: [ 0.06567447]\nx: 95 mean: [ 246.97460949] stdv: [ 0.06572542]\nx: 96 mean: [ 246.97478395] stdv: [ 0.06565787]\nx: 97 mean: [ 246.97472209] stdv: [ 0.06568198]\nx: 98 mean: [ 246.97471377] stdv: [ 0.06568521]\nx: 99 mean: [ 246.97497342] stdv: [ 0.06558288]\nx: 100 mean: [ 246.97475553] stdv: [ 0.06566897]\nx: 101 mean: [ 246.97469097] stdv: [ 0.06569404]\nx: 102 mean: [ 246.97471421] stdv: [ 0.06568504]\nx: 103 mean: [ 246.97473162] stdv: [ 0.06567828]\nx: 104 mean: [ 246.97484975] stdv: [ 0.06563203]\nx: 105 mean: [ 246.97497342] stdv: [ 0.06558288]\nx: 106 mean: [ 246.97497342] stdv: [ 0.06558288]\nx: 107 mean: [ 246.97470075] stdv: [ 0.06569026]\nx: 108 mean: [ 246.97471976] stdv: [ 0.06568289]\nx: 109 mean: [ 246.97472744] stdv: [ 0.06567991]\nx: 110 mean: [ 246.97467964] stdv: [ 0.06569842]\nx: 111 mean: [ 246.97472156] stdv: [ 0.06568219]\nx: 112 mean: [ 246.97472384] stdv: [ 0.0656813]\nx: 113 mean: [ 246.97484969] stdv: [ 0.06563205]\nx: 114 mean: [ 246.97472124] stdv: [ 0.06568231]\nx: 115 mean: [ 246.97468564] stdv: [ 0.06569611]\nx: 116 mean: [ 246.97482979] stdv: [ 0.06563989]\nx: 117 mean: [ 246.97474777] stdv: [ 0.06567199]\nx: 118 mean: [ 246.97465421] stdv: [ 0.06570823]\nx: 119 mean: [ 246.9747083] stdv: [ 0.06568733]\nx: 123 mean: [ 242.06367384] stdv: [ 0.00785487]\nx: 124 mean: [ 242.06367384] stdv: [ 0.00785487]\nx: 126 mean: [ 234.86776894] stdv: [ 0.00727135]\nx: 129 mean: [ 229.57800464] stdv: [ 0.00394605]\nx: 130 mean: [ 229.57800464] stdv: [ 0.00394605]\nx: 131 mean: [ 229.57800464] stdv: [ 0.00394605]\nx: 132 mean: [ 229.57800464] stdv: [ 0.00394605]\nx: 133 mean: [ 229.57800464] stdv: [ 0.00394605]\nx: 135 mean: [ 217.40789755] stdv: [ 0.03180435]\nx: 136 mean: [ 217.40789755] stdv: [ 0.03180435]\nx: 137 mean: [ 217.40789755] stdv: [ 0.03180435]\nx: 138 mean: [ 217.40789755] stdv: [ 0.03180435]\nx: 139 mean: [ 217.40789755] stdv: [ 0.03180435]\nx: 140 mean: [ 217.40789755] stdv: [ 0.03180435]\nx: 141 mean: [ 217.40789755] stdv: [ 0.03180435]\nx: 142 mean: [ 217.40789755] stdv: [ 0.03180435]\nx: 143 mean: [ 217.40789755] stdv: [ 0.03180435]\nx: 144 mean: [ 217.40789755] stdv: [ 0.03180435]\nx: 145 mean: [ 217.40789755] stdv: [ 0.03180435]\nx: 146 mean: [ 217.40789755] stdv: [ 0.03180435]\nx: 147 mean: [ 185.33025688] stdv: [ 0.02880708]\nx: 148 mean: [ 185.33026597] stdv: [ 0.02880356]\nx: 149 mean: [ 185.33026597] stdv: [ 0.02880356]\nx: 150 mean: [ 185.33026946] stdv: [ 0.0288022]\nx: 151 mean: [ 185.33026563] stdv: [ 0.02880369]\nx: 152 mean: [ 185.33026385] stdv: [ 0.02880438]\nx: 155 mean: [ 179.68398213] stdv: [ 0.02829175]\nx: 156 mean: [ 179.68398213] stdv: [ 0.02829175]\nx: 157 mean: [ 179.68398213] stdv: [ 0.02829175]\nx: 158 mean: [ 179.68398213] stdv: [ 0.02829175]\nx: 159 mean: [ 179.68398213] stdv: [ 0.02829175]\nx: 160 mean: [ 179.68398213] stdv: [ 0.02829175]\nx: 161 mean: [ 179.68398213] stdv: [ 0.02829175]\nx: 162 mean: [ 179.68398213] stdv: [ 0.02829175]\nx: 163 mean: [ 179.68398213] stdv: [ 0.02829175]\nx: 164 mean: [ 179.68398213] stdv: [ 0.02829175]\nx: 165 mean: [ 179.68398213] stdv: [ 0.02829175]\nx: 166 mean: [ 179.68398213] stdv: [ 0.02829175]\nx: 167 mean: [ 179.68398213] stdv: [ 0.02829175]\nx: 168 mean: [ 179.68398213] stdv: [ 0.02829175]\nx: 169 mean: [ 179.68398213] stdv: [ 0.02829175]\nx: 170 mean: [ 179.68398213] stdv: [ 0.02829175]\nx: 171 mean: [ 179.68398213] stdv: [ 0.02829175]\nx: 172 mean: [ 179.68398213] stdv: [ 0.02829175]\nx: 173 mean: [ 179.68398213] stdv: [ 0.02829175]\nx: 174 mean: [ 96.52521967] stdv: [ 0.06697663]\nx: 175 mean: [ 96.52521967] stdv: [ 0.06697663]\nx: 176 mean: [ 96.52521967] stdv: [ 0.06697663]\nx: 177 mean: [ 96.52521967] stdv: [ 0.06697663]\nx: 178 mean: [ 96.52521967] stdv: [ 0.06697663]\nx: 179 mean: [ 96.52521967] stdv: [ 0.06697663]\nx: 180 mean: [ 96.52521967] stdv: [ 0.06697663]\nx: 181 mean: [ 96.52521967] stdv: [ 0.06697663]\nx: 182 mean: [ 96.52521967] stdv: [ 0.06697663]\nx: 183 mean: [ 96.52521967] stdv: [ 0.06697663]\nx: 184 mean: [ 96.52521967] stdv: [ 0.06697663]\nx: 185 mean: [ 96.52521967] stdv: [ 0.06697663]\nx: 187 mean: [ 96.26978394] stdv: [ 0.00062733]\nx: 188 mean: [ 96.26978394] stdv: [ 0.00062733]\nx: 189 mean: [ 96.26978394] stdv: [ 0.00062733]\n"
     ]
    }
   ],
   "source": [
    "%matplotlib inline\n",
    "import src.Expectation as expectation\n",
    "from src.bayes_opt.bayesian_optimization import BayesianOptimization as bayesian\n",
    "import src.LineGraph as graph\n",
    "import os\n",
    "print(os.getcwd())\n",
    "import src.Parameters\n",
    "src.Parameters.Parameters(fname='C:/Users/wklue/Desktop/SHS/resources/input/rules.txt')\n",
    "import src.Controller\n",
    "\n",
    "params = src.Parameters.Parameters\n",
    "print('------------------------------------------------')\n",
    "print('Pricing Schedule:')\n",
    "print(params.price_schema)\n",
    "print('------------------------------------------------')\n",
    "print('Rules:')\n",
    "for r in params().rules:\n",
    "    print(r.to_string())\n",
    "print('------------------------------------------------')\n",
    "\n",
    "expect, p_x, p_mean, p_std = src.Controller.execute()\n",
    "line_graph = graph.LineGraph(expect.bounds[0])\n",
    "#line_graph.add_expectation(expect.kline[0])\n",
    "kappa = 2.53 * 100\n",
    "line_graph.add_confidence_interval(kappa, p_mean, p_std, p_x)\n",
    "expect.show_ucb()\n",
    "line_graph.show_graph()\n",
    "\n",
    "for i in range(len(p_std)):\n",
    "    print('x:', p_x[i], 'mean:', p_mean[i], 'stdv:', p_std[i])"
   ]
  },
  {
   "cell_type": "code",
   "execution_count": 1,
   "metadata": {},
   "outputs": [],
   "source": [
    ""
   ]
  },
  {
   "cell_type": "code",
   "execution_count": 1,
   "metadata": {},
   "outputs": [],
   "source": [
    ""
   ]
  },
  {
   "cell_type": "code",
   "execution_count": null,
   "metadata": {},
   "outputs": [],
   "source": [
    ""
   ]
  }
 ],
 "metadata": {
  "kernelspec": {
   "display_name": "Python 2",
   "language": "python",
   "name": "python2"
  },
  "language_info": {
   "codemirror_mode": {
    "name": "ipython",
    "version": 2.0
   },
   "file_extension": ".py",
   "mimetype": "text/x-python",
   "name": "python",
   "nbconvert_exporter": "python",
   "pygments_lexer": "ipython2",
   "version": "2.7.6"
  }
 },
 "nbformat": 4,
 "nbformat_minor": 0
}